{
 "cells": [
  {
   "cell_type": "markdown",
   "metadata": {},
   "source": [
    "# Q.1 Rename key city to location in the following dictionary"
   ]
  },
  {
   "cell_type": "code",
   "execution_count": 2,
   "metadata": {},
   "outputs": [
    {
     "name": "stdout",
     "output_type": "stream",
     "text": [
      "{'name': 'Sachin', 'age': 22, 'salary': 60000, 'location': 'New Delhi'}\n"
     ]
    }
   ],
   "source": [
    "SkillSanta_Dict={\n",
    "    \"name\":\"Sachin\",\n",
    "    \"age\":22,\n",
    "    \"salary\":60000,\n",
    "    \"city\":\"New Delhi\"\n",
    "}\n",
    "SkillSanta_Dict[\"location\"]=SkillSanta_Dict[\"city\"]\n",
    "del SkillSanta_Dict[\"city\"]\n",
    "print(SkillSanta_Dict)"
   ]
  },
  {
   "cell_type": "markdown",
   "metadata": {},
   "source": [
    "# Q 2. Given a list iterate it and count the occurrence of each element and create a dictionary to show the count of each element"
   ]
  },
  {
   "cell_type": "code",
   "execution_count": 3,
   "metadata": {},
   "outputs": [
    {
     "name": "stdout",
     "output_type": "stream",
     "text": [
      "Original list  [11, 45, 8, 11, 23, 45, 23, 45, 89]\n",
      "Printing count of each item  {11: 2, 45: 3, 8: 1, 23: 2, 89: 1}\n"
     ]
    }
   ],
   "source": [
    "list=[11,45,8,11,23,45,23,45,89]\n",
    "dict={}\n",
    "for i in list:\n",
    "    dict[i]=list.count(i)\n",
    "print('Original list ',list)\n",
    "print('Printing count of each item ',dict)\n"
   ]
  },
  {
   "cell_type": "markdown",
   "metadata": {},
   "source": [
    "# 3. Remove duplicate from a list and create a tuple and find the minimum and maximum number"
   ]
  },
  {
   "cell_type": "code",
   "execution_count": 1,
   "metadata": {},
   "outputs": [
    {
     "name": "stdout",
     "output_type": "stream",
     "text": [
      "unique items  [87, 45, 41, 65, 94, 99]\n",
      "tuple  (87, 45, 41, 65, 94, 99)\n",
      "max:  99\n",
      "min:  41\n"
     ]
    }
   ],
   "source": [
    "sampleList=[87,45,41,65,94,41,99,94]\n",
    "sampleList=list(dict.fromkeys(sampleList))\n",
    "print('unique items ',sampleList)\n",
    "print('tuple ',tuple(sampleList))\n",
    "print('max: ',max(sampleList))\n",
    "print('min: ',min(sampleList))"
   ]
  },
  {
   "cell_type": "markdown",
   "metadata": {},
   "source": [
    "# 4. Create a function showEmployee() in such a way that it should accept employee name, and it’s salary and display both, and if the salary is missing in function call it should show it as 50000\n"
   ]
  },
  {
   "cell_type": "code",
   "execution_count": 4,
   "metadata": {},
   "outputs": [
    {
     "name": "stdout",
     "output_type": "stream",
     "text": [
      "Employee Eddy salary is: 50000\n",
      "Employee Eddy salary is: 50000\n"
     ]
    }
   ],
   "source": [
    "def showEmployee(*x):\n",
    "    if len(x)>1:\n",
    "        print('Employee '+x[0]+' salary is:',x[1])\n",
    "    else:\n",
    "        print('Employee '+x[0]+' salary is: 50000')\n",
    "showEmployee('Eddy',50000)\n",
    "showEmployee('Eddy')"
   ]
  },
  {
   "cell_type": "markdown",
   "metadata": {},
   "source": [
    "# 5. Create an inner function to calculate the addition in the following way\n",
    "### ● Create an outer function that will accept two parameters a and b\n",
    "### ● Create an inner function inside an outer function that will calculate the addition of a and b\n",
    "### ● At last, an outer function will add 5 into addition and return it\n"
   ]
  },
  {
   "cell_type": "code",
   "execution_count": 5,
   "metadata": {},
   "outputs": [
    {
     "name": "stdout",
     "output_type": "stream",
     "text": [
      "18\n"
     ]
    }
   ],
   "source": [
    "def accept(x,y):\n",
    "    def add():\n",
    "        return x+y\n",
    "    return add()+5\n",
    "print(accept(11,2))"
   ]
  },
  {
   "cell_type": "markdown",
   "metadata": {},
   "source": [
    "# 6. Write a recursive function to print the fibonacci series of n numbers.\n"
   ]
  },
  {
   "cell_type": "code",
   "execution_count": 6,
   "metadata": {},
   "outputs": [
    {
     "name": "stdout",
     "output_type": "stream",
     "text": [
      "How many number of fibonnacci series you want to print ? 20\n",
      "Fibonacci sequence:\n",
      "0\n",
      "1\n",
      "1\n",
      "2\n",
      "3\n",
      "5\n",
      "8\n",
      "13\n",
      "21\n",
      "34\n",
      "55\n",
      "89\n",
      "144\n",
      "233\n",
      "377\n",
      "610\n",
      "987\n",
      "1597\n",
      "2584\n",
      "4181\n"
     ]
    }
   ],
   "source": [
    "def fibon(n):  \n",
    "   if n <= 1:  \n",
    "       return n  \n",
    "   else:  \n",
    "       return(fibon(n-1) + fibon(n-2))  \n",
    "num = int(input(\"How many number of fibonnacci series you want to print ? \"))  \n",
    "if num <= 0:  \n",
    "   print(\"Plese enter a positive integer\")  \n",
    "else:  \n",
    "   print(\"Fibonacci sequence:\")  \n",
    "   for i in range(num):  \n",
    "       print(fibon(i)) "
   ]
  },
  {
   "cell_type": "markdown",
   "metadata": {},
   "source": [
    "# 7. Assign a different name to function and call it through the new name\n"
   ]
  },
  {
   "cell_type": "code",
   "execution_count": 7,
   "metadata": {},
   "outputs": [
    {
     "name": "stdout",
     "output_type": "stream",
     "text": [
      "shantum 22\n",
      "shantum 22\n"
     ]
    }
   ],
   "source": [
    "def displayStudent(name, age):\n",
    "    print(name, age)\n",
    "\n",
    "displayStudent(\"shantum\", 22)\n",
    "\n",
    "showStudent = displayStudent\n",
    "showStudent(\"shantum\", 22)"
   ]
  },
  {
   "cell_type": "markdown",
   "metadata": {},
   "source": [
    "# 8. Create a python function which takes a mobile number from the user until the user would not give you a proper mobile number. If a user gives the wrong input you have to take input again from the user, once get proper number stop asking\n"
   ]
  },
  {
   "cell_type": "code",
   "execution_count": 8,
   "metadata": {},
   "outputs": [
    {
     "name": "stdout",
     "output_type": "stream",
     "text": [
      "Please Enter you mobile number:::\n",
      "999999999\n",
      "invalid mobile number! \n",
      "please enter again:::\n",
      "8630982559\n",
      "your mobile number is valid\n"
     ]
    }
   ],
   "source": [
    "import re \n",
    "def isValid(s):\n",
    "    Pattern = re.compile(\"(0/91)?[6-9][0-9]{9}\") \n",
    "    if Pattern.match(s):\n",
    "        print('your mobile number is valid')\n",
    "    else:\n",
    "        print('invalid mobile number! \\nplease enter again:::')\n",
    "        isValid(input())\n",
    "print('Please Enter you mobile number:::')\n",
    "isValid(input())\n"
   ]
  },
  {
   "cell_type": "markdown",
   "metadata": {},
   "source": [
    "# 9. Write a Python function that accepts a string and calculates the number of uppercase letters and lowercase letters.\n",
    "### Sample String : 'The quick Brown Fox'\n",
    "### Expected Output :\n",
    "### No. of Uppercase characters : 3\n",
    "### No. of Lowercase Characters : 13"
   ]
  },
  {
   "cell_type": "code",
   "execution_count": 9,
   "metadata": {},
   "outputs": [
    {
     "name": "stdout",
     "output_type": "stream",
     "text": [
      "The quick Brown Fox\n",
      "No. of  Uppercase charracters :  3\n",
      "No. of  Lowercase charracters :  13\n"
     ]
    }
   ],
   "source": [
    "def count(s):\n",
    "    l=0\n",
    "    u=0\n",
    "    for i in s:\n",
    "        if i.islower():\n",
    "            l=l+1\n",
    "        elif i.isupper():\n",
    "            u=u+1\n",
    "    print('No. of  Uppercase charracters : ',u)\n",
    "    print('No. of  Lowercase charracters : ',l)\n",
    "\n",
    "s=input()\n",
    "count(s)"
   ]
  },
  {
   "cell_type": "markdown",
   "metadata": {},
   "source": [
    "# 10. Write a Python function to check whether a number is perfect or not. Go to the editor According to Wikipedia : In number theory, a perfect number is a positive integer that is equal to the sum of its proper positive divisors, that is, the sum of its positive divisors excluding the number itself (also known as its aliquot sum). Equivalently, a perfect number is a number that is half the sum of all of its positive divisors (including itself).\n",
    "### Example : The first perfect number is 6, because 1, 2, and 3 are its proper positive divisors, and 1 + 2 + 3 = 6. Equivalently, the number 6 is equal to half the sum of all its positive divisors: ( 1 + 2 + 3 + 6 ) / 2 = 6. The next perfect number is 28 = 1 + 2 + 4 + 7 + 14. This is followed by the perfect numbers 496 and 8128."
   ]
  },
  {
   "cell_type": "code",
   "execution_count": 10,
   "metadata": {},
   "outputs": [
    {
     "name": "stdout",
     "output_type": "stream",
     "text": [
      "Enter Number to check number is perfect or not!!6\n",
      "6 is a perfect number\n"
     ]
    }
   ],
   "source": [
    "def check(n):\n",
    "    sum = 0\n",
    "    for x in range(1, n):\n",
    "        if n % x == 0:\n",
    "            sum += x\n",
    "    return sum == n\n",
    "n=int(input('Enter Number to check number is perfect or not!!'))\n",
    "if check(n):\n",
    "    print(str(n)+' is a perfect number')\n",
    "else:\n",
    "    print(str(n)+' is not a perfect number')"
   ]
  }
 ],
 "metadata": {
  "kernelspec": {
   "display_name": "Python 3",
   "language": "python",
   "name": "python3"
  },
  "language_info": {
   "codemirror_mode": {
    "name": "ipython",
    "version": 3
   },
   "file_extension": ".py",
   "mimetype": "text/x-python",
   "name": "python",
   "nbconvert_exporter": "python",
   "pygments_lexer": "ipython3",
   "version": "3.8.3"
  }
 },
 "nbformat": 4,
 "nbformat_minor": 4
}
